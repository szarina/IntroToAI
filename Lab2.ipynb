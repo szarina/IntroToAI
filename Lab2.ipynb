{
  "nbformat": 4,
  "nbformat_minor": 0,
  "metadata": {
    "colab": {
      "provenance": [],
      "authorship_tag": "ABX9TyOIEDtsoLoIHJASiQQdRTZi",
      "include_colab_link": true
    },
    "kernelspec": {
      "name": "python3",
      "display_name": "Python 3"
    },
    "language_info": {
      "name": "python"
    }
  },
  "cells": [
    {
      "cell_type": "markdown",
      "metadata": {
        "id": "view-in-github",
        "colab_type": "text"
      },
      "source": [
        "<a href=\"https://colab.research.google.com/github/szarina/IntroToAI/blob/main/Lab2.ipynb\" target=\"_parent\"><img src=\"https://colab.research.google.com/assets/colab-badge.svg\" alt=\"Open In Colab\"/></a>"
      ]
    },
    {
      "cell_type": "code",
      "execution_count": 3,
      "metadata": {
        "id": "JfQh0s3o2VGz",
        "outputId": "241c5249-f82c-4cee-937b-b7f3f6865c44",
        "colab": {
          "base_uri": "https://localhost:8080/"
        }
      },
      "outputs": [
        {
          "output_type": "stream",
          "name": "stdout",
          "text": [
            "1 \n",
            "1 2 \n",
            "1 2 3 \n",
            "1 2 3 4 \n",
            "1 2 3 4 5 \n"
          ]
        }
      ],
      "source": [
        "#1\n",
        "for i in range(1,6):\n",
        "    for j in range(1, i+1):\n",
        "        print(j, end=\" \")\n",
        "    print()"
      ]
    },
    {
      "cell_type": "code",
      "source": [
        "#2\n",
        "number = int(input())\n",
        "sum = 0\n",
        "\n",
        "for i in range(1, number + 1):\n",
        "    sum += i\n",
        "\n",
        "print(f\"Sum is: {sum}\")"
      ],
      "metadata": {
        "colab": {
          "base_uri": "https://localhost:8080/"
        },
        "id": "rL7C6RA-VTf7",
        "outputId": "4bbc2ea4-20e3-4cf8-9ffb-5982ae99b6b6"
      },
      "execution_count": 5,
      "outputs": [
        {
          "output_type": "stream",
          "name": "stdout",
          "text": [
            "10\n",
            "Sum is: 55\n"
          ]
        }
      ]
    },
    {
      "cell_type": "code",
      "source": [
        "#3\n",
        "numbers = input(\"Enter a list of numbers separated by ,: \")\n",
        "numbers = [int(num) for num in numbers.split(\",\")]\n",
        "\n",
        "for number in numbers:\n",
        "    if number > 500:\n",
        "        break\n",
        "    elif number % 5 == 0 and number <= 150:\n",
        "        print(number)"
      ],
      "metadata": {
        "colab": {
          "base_uri": "https://localhost:8080/"
        },
        "id": "-C7n0rqRWZNM",
        "outputId": "9a4a3f37-82c1-497a-bcff-d080b51c322e"
      },
      "execution_count": 14,
      "outputs": [
        {
          "output_type": "stream",
          "name": "stdout",
          "text": [
            "Enter a list of numbers separated by ,: 12, 75, 150, 180, 145, 525, 50\n",
            "75\n",
            "150\n",
            "145\n"
          ]
        }
      ]
    },
    {
      "cell_type": "code",
      "source": [
        "#4\n",
        "number = int(input(\"Enter a number: \"))\n",
        "digit_count = 0\n",
        "\n",
        "while number > 0:\n",
        "    number //= 10\n",
        "    digit_count += 1\n",
        "\n",
        "print(digit_count)"
      ],
      "metadata": {
        "colab": {
          "base_uri": "https://localhost:8080/"
        },
        "id": "6zzjQvmRXAtF",
        "outputId": "554a38dc-111c-4f48-c3fd-b1cdd9941324"
      },
      "execution_count": 10,
      "outputs": [
        {
          "output_type": "stream",
          "name": "stdout",
          "text": [
            "Enter a number: 3232\n",
            "4\n"
          ]
        }
      ]
    },
    {
      "cell_type": "code",
      "source": [
        "#5\n",
        "for i in range(5, 0, -1):\n",
        "    for j in range(i, 0, -1):\n",
        "        print(j, end=\" \")\n",
        "    print()"
      ],
      "metadata": {
        "colab": {
          "base_uri": "https://localhost:8080/"
        },
        "id": "IyjRGHEAYkm4",
        "outputId": "63ad0ea6-bd6b-47f8-bc8e-a1c0debcf68b"
      },
      "execution_count": 11,
      "outputs": [
        {
          "output_type": "stream",
          "name": "stdout",
          "text": [
            "5 4 3 2 1 \n",
            "4 3 2 1 \n",
            "3 2 1 \n",
            "2 1 \n",
            "1 \n"
          ]
        }
      ]
    },
    {
      "cell_type": "code",
      "source": [
        "#6\n",
        "numbers = input(\"Enter a list of numbers separated by ,: \")\n",
        "numbers = [int(num) for num in numbers.split(\",\")]\n",
        "\n",
        "for i in range(len(numbers) - 1, -1, -1):\n",
        "    print(numbers[i])"
      ],
      "metadata": {
        "colab": {
          "base_uri": "https://localhost:8080/"
        },
        "id": "RlLG14vEYrJh",
        "outputId": "cb1b947b-1d45-4257-a772-1344ce6dea4f"
      },
      "execution_count": 16,
      "outputs": [
        {
          "output_type": "stream",
          "name": "stdout",
          "text": [
            "Enter a list of numbers separated by ,: 10, 20, 30, 40, 50\n",
            "50\n",
            "40\n",
            "30\n",
            "20\n",
            "10\n"
          ]
        }
      ]
    },
    {
      "cell_type": "code",
      "source": [
        "#7\n",
        "for i in range(-10, 0):\n",
        "    print(i)"
      ],
      "metadata": {
        "colab": {
          "base_uri": "https://localhost:8080/"
        },
        "id": "0Kv-sbl1ZNAl",
        "outputId": "c1e541ce-43e9-4cfc-ecb2-58bdec24e10f"
      },
      "execution_count": 17,
      "outputs": [
        {
          "output_type": "stream",
          "name": "stdout",
          "text": [
            "-10\n",
            "-9\n",
            "-8\n",
            "-7\n",
            "-6\n",
            "-5\n",
            "-4\n",
            "-3\n",
            "-2\n",
            "-1\n"
          ]
        }
      ]
    },
    {
      "cell_type": "code",
      "source": [
        "#8\n",
        "numbers = input(\"Enter a list of numbers separated by ,: \")\n",
        "numbers = [int(num) for num in numbers.split(\",\")]\n",
        "\n",
        "for i in range(1,len(numbers),2):\n",
        "      print(numbers[i])"
      ],
      "metadata": {
        "colab": {
          "base_uri": "https://localhost:8080/"
        },
        "id": "wk1kjhtRZjZr",
        "outputId": "7d1c7a62-7412-4d9d-93cd-ba1cae70a8e7"
      },
      "execution_count": 19,
      "outputs": [
        {
          "output_type": "stream",
          "name": "stdout",
          "text": [
            "Enter a list of numbers separated by ,: 10, 20, 30, 40, 50, 60, 70, 80, 90, 100\n",
            "20\n",
            "40\n",
            "60\n",
            "80\n",
            "100\n"
          ]
        }
      ]
    },
    {
      "cell_type": "code",
      "source": [
        "#9\n",
        "import numpy as np\n",
        "\n",
        "sampleArray = np.array([[34, 43, 73], [82, 22, 12], [53, 94, 66]])\n",
        "\n",
        "# Original array\n",
        "print(\"Printing Original array:\")\n",
        "print(sampleArray)\n",
        "\n",
        "# Sorting the array by the second row\n",
        "a = sampleArray[:, sampleArray[1, :].argsort()]\n",
        "print(\"\\nSorting Original array by second row:\")\n",
        "print(a)\n",
        "\n",
        "# Sorting the array by the second column\n",
        "b = sampleArray[sampleArray[:, 1].argsort()]\n",
        "print(\"\\nSorting Original array by second column:\")\n",
        "print(b)"
      ],
      "metadata": {
        "colab": {
          "base_uri": "https://localhost:8080/"
        },
        "id": "9OW4KognaCDJ",
        "outputId": "e9bffbeb-ff76-45d5-ef75-bb597c9d3d67"
      },
      "execution_count": 22,
      "outputs": [
        {
          "output_type": "stream",
          "name": "stdout",
          "text": [
            "Printing Original array:\n",
            "[[34 43 73]\n",
            " [82 22 12]\n",
            " [53 94 66]]\n",
            "\n",
            "Sorting Original array by second row:\n",
            "[[73 43 34]\n",
            " [12 22 82]\n",
            " [66 94 53]]\n",
            "\n",
            "Sorting Original array by second column:\n",
            "[[82 22 12]\n",
            " [34 43 73]\n",
            " [53 94 66]]\n"
          ]
        }
      ]
    },
    {
      "cell_type": "code",
      "source": [
        "#10\n",
        "import numpy as np\n",
        "\n",
        "sampleArray = np.array([[34, 43, 73], [82, 22, 12], [53, 94, 66]])\n",
        "newColumn = np.array([[10, 10, 10]])\n",
        "\n",
        "# Printing Original array\n",
        "print(\"Printing Original array:\")\n",
        "print(sampleArray)\n",
        "\n",
        "# Deleting column 2\n",
        "a = np.delete(sampleArray, 1, axis=1)\n",
        "print(\"\\nArray after deleting column 2:\")\n",
        "print(a)\n",
        "\n",
        "# Inserting column 2\n",
        "a = np.insert(a, 1, newColumn, axis=1)\n",
        "print(\"\\nArray after inserting column 2:\")\n",
        "print(a)"
      ],
      "metadata": {
        "colab": {
          "base_uri": "https://localhost:8080/"
        },
        "id": "wzf89mpbbEwC",
        "outputId": "3029bffd-65bf-4054-ef71-de7c922519e4"
      },
      "execution_count": 23,
      "outputs": [
        {
          "output_type": "stream",
          "name": "stdout",
          "text": [
            "Printing Original array:\n",
            "[[34 43 73]\n",
            " [82 22 12]\n",
            " [53 94 66]]\n",
            "\n",
            "Array after deleting column 2:\n",
            "[[34 73]\n",
            " [82 12]\n",
            " [53 66]]\n",
            "\n",
            "Array after inserting column 2:\n",
            "[[34 10 73]\n",
            " [82 10 12]\n",
            " [53 10 66]]\n"
          ]
        }
      ]
    },
    {
      "cell_type": "code",
      "source": [
        "#11\n",
        "import random\n",
        "import string\n",
        "\n",
        "\n",
        "letters = string.ascii_letters\n",
        "random_string = ''.join(random.choice(letters) for _ in range(5))\n",
        "\n",
        "print(\"Random String:\", random_string)"
      ],
      "metadata": {
        "colab": {
          "base_uri": "https://localhost:8080/"
        },
        "id": "QkhVWogjbxIC",
        "outputId": "2af664dd-9a9a-4d44-f511-679d337e2fad"
      },
      "execution_count": 27,
      "outputs": [
        {
          "output_type": "stream",
          "name": "stdout",
          "text": [
            "Random String: HXAEG\n"
          ]
        }
      ]
    },
    {
      "cell_type": "code",
      "source": [
        "#12\n",
        "import random\n",
        "import string\n",
        "\n",
        "# Generating uppercase letters\n",
        "uppercase_letters = ''.join(random.choices(string.ascii_uppercase, k = 2))\n",
        "\n",
        "# Generating digits\n",
        "digits = ''.join(random.choices(string.digits,k = 1))\n",
        "\n",
        "# Generating symbols\n",
        "symbols = ''.join(random.choices(string.punctuation,k = 1))\n",
        "\n",
        "# Generating remaining 6 lowercase\n",
        "remaining_chars = ''.join(random.choices(string.ascii_lowercase,k = 6))\n",
        "\n",
        "password = uppercase_letters + digits + symbols + remaining_chars\n",
        "\n",
        "# Shuffling\n",
        "password_list = list(password)\n",
        "random.shuffle(password_list)\n",
        "final_password = ''.join(password_list)\n",
        "\n",
        "#The final password\n",
        "print(final_password)"
      ],
      "metadata": {
        "colab": {
          "base_uri": "https://localhost:8080/"
        },
        "id": "2mQlESbgckgh",
        "outputId": "4590425c-e434-4d5e-b4c0-013f06d6e01e"
      },
      "execution_count": 31,
      "outputs": [
        {
          "output_type": "stream",
          "name": "stdout",
          "text": [
            "z.fwEFqvm8\n"
          ]
        }
      ]
    }
  ]
}